{
  "nbformat": 4,
  "nbformat_minor": 0,
  "metadata": {
    "colab": {
      "provenance": []
    },
    "kernelspec": {
      "name": "python3",
      "display_name": "Python 3"
    },
    "language_info": {
      "name": "python"
    }
  },
  "cells": [
    {
      "cell_type": "code",
      "execution_count": null,
      "metadata": {
        "id": "KK7wx549roiS"
      },
      "outputs": [],
      "source": [
        "import torch\n",
        "from torchvision import datasets, transforms\n",
        "from torch.utils.data import Subset, DataLoader, Dataset, SubsetRandomSampler\n",
        "from torchvision import datasets\n",
        "from torchvision.transforms import ToTensor\n",
        "import matplotlib.pyplot as plt\n",
        "from torch.utils.data import DataLoader\n",
        "import random"
      ]
    },
    {
      "cell_type": "code",
      "source": [
        "# Define the transformation to be applied to the images\n",
        "transform = transforms.Compose([transforms.ToTensor()])\n",
        "\n",
        "# Download the MNIST dataset\n",
        "mnist_train = datasets.MNIST(root='./data', train=True, download=True, transform=transform)\n",
        "mnist_test = datasets.MNIST(root='./data', train=False, download=True, transform=transform)\n",
        "\n",
        "print(mnist_train)"
      ],
      "metadata": {
        "colab": {
          "base_uri": "https://localhost:8080/"
        },
        "id": "8EZ-kd8K0Fvu",
        "outputId": "2c7613d6-76d2-4139-ef53-fbbfe6d26213"
      },
      "execution_count": null,
      "outputs": [
        {
          "output_type": "stream",
          "name": "stdout",
          "text": [
            "<bound method MNIST.__len__ of Dataset MNIST\n",
            "    Number of datapoints: 60000\n",
            "    Root location: ./data\n",
            "    Split: Train\n",
            "    StandardTransform\n",
            "Transform: Compose(\n",
            "               ToTensor()\n",
            "           )>\n"
          ]
        }
      ]
    },
    {
      "cell_type": "code",
      "source": [
        "def ShowImages(dataset):\n",
        "    figure = plt.figure(figsize=(8, 8))\n",
        "    cols, rows = 3, 3\n",
        "    for i in range(1, cols * rows + 1):\n",
        "        sample_idx = torch.randint(len(dataset), size=(1,)).item()\n",
        "        img, label = dataset[sample_idx]\n",
        "        figure.add_subplot(rows, cols, i)\n",
        "        plt.axis(\"off\")\n",
        "        plt.imshow(img.squeeze(), cmap=\"gray\")\n",
        "    plt.show()"
      ],
      "metadata": {
        "id": "FgIwid_1r4sI"
      },
      "execution_count": null,
      "outputs": []
    },
    {
      "cell_type": "code",
      "source": [
        "\n",
        "\n",
        "# Specify the number of images to select from each label\n",
        "images_per_label = 10\n",
        "\n",
        "# Create a list to store the selected indices\n",
        "selected_indices = []\n",
        "\n",
        "# Iterate over each label to select the specified number of images\n",
        "for label in range(10):\n",
        "    # Get indices of samples with the current label\n",
        "    label_indices = [i for i in range(len(mnist_train)) if mnist_train.targets[i] == label]\n",
        "\n",
        "    # Randomly select the specified number of images for the current label\n",
        "    selected_indices.extend(torch.randperm(len(label_indices))[:images_per_label])\n",
        "\n",
        "# Create a Subset with the selected indices\n",
        "baseline_mnist = torch.utils.data.Subset(mnist_train, selected_indices)\n",
        "\n",
        "print(len(baseline_mnist))"
      ],
      "metadata": {
        "colab": {
          "base_uri": "https://localhost:8080/"
        },
        "id": "eqmlgyTZzhR-",
        "outputId": "3cc2cf80-e175-423e-c0a5-b0a4086c5aeb"
      },
      "execution_count": null,
      "outputs": [
        {
          "output_type": "stream",
          "name": "stdout",
          "text": [
            "100\n"
          ]
        }
      ]
    },
    {
      "cell_type": "code",
      "source": [
        "mnist_split_datasets = []\n",
        "\n",
        "for label in range(10):\n",
        "    # Create a list of indices corresponding to the selected labels\n",
        "    selected_indices = [i for i in range(len(mnist_train)) if mnist_train.targets[i] in label]\n",
        "\n",
        "    # Create a Subset of the MNIST dataset using the selected indices\n",
        "    selected_mnist = Subset(mnist_train, selected_indices)\n",
        "\n",
        "    # Number of images to randomly select\n",
        "    num_images_to_select = 10\n",
        "    # Get the total number of images in the dataset\n",
        "    total_images = len(selected_mnist)\n",
        "    # Create a list of indices corresponding to the entire dataset\n",
        "    all_indices = list(range(total_images))\n",
        "    # Shuffle the indices randomly\n",
        "    random.shuffle(all_indices)\n",
        "    # Select the first 10 indices (or adjust as needed)\n",
        "    selected_indices = all_indices[:num_images_to_select]\n",
        "\n",
        "    # Create a Subset of the MNIST dataset using the selected indices\n",
        "    selected_mnist = Subset(selected_mnist, selected_indices)\n",
        "\n",
        "    mnist_split_datasets.append(selected_mnist)"
      ],
      "metadata": {
        "id": "en-bvjR_v9uF"
      },
      "execution_count": null,
      "outputs": []
    }
  ]
}